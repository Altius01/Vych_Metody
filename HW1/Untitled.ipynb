{
 "cells": [
  {
   "cell_type": "markdown",
   "metadata": {},
   "source": [
    "$I_n(\\alpha) = \\int_0^1 \\frac{x^n}{x+\\alpha} dx =  \\int_0^1 \\frac{x^{n-1}(x-\\alpha + \\alpha)}{x+\\alpha} dx =  \n",
    "\\int_0^1 \\frac{x^{n-1}}{\\alpha} dx - \\alpha\\int_0^1 \\frac{x^{n-1}}{x+\\alpha} dx = \\frac{1}{n} - \\alpha I_{n-1}(\\alpha)$"
   ]
  },
  {
   "cell_type": "markdown",
   "metadata": {},
   "source": [
    "$ I_{n-1}(\\alpha) = \\frac{\\frac{1}{n} - I_n(\\alpha)}{\\alpha}$"
   ]
  },
  {
   "cell_type": "markdown",
   "metadata": {},
   "source": [
    "$ I_0(\\alpha) = \\int_0^1 \\frac{1}{x+\\alpha} dx = \\ln{\\frac{1+\\alpha}{\\alpha}}$"
   ]
  },
  {
   "cell_type": "code",
   "execution_count": 5,
   "metadata": {},
   "outputs": [],
   "source": [
    "import cmath as math"
   ]
  },
  {
   "cell_type": "code",
   "execution_count": 6,
   "metadata": {},
   "outputs": [],
   "source": [
    "def forward_reccur(prev_int, prev_n, n, alpha):\n",
    "    int_ = 1/n - alpha*prev_int\n",
    "    if prev_n == n:\n",
    "        return int_\n",
    "    else:\n",
    "        return forward_reccur(int_, prev_n+1, n, alpha)"
   ]
  },
  {
   "cell_type": "code",
   "execution_count": 7,
   "metadata": {},
   "outputs": [],
   "source": [
    "def backward_reccur(prev_int, prev_n, n, alpha):\n",
    "    int_ = (1/n - alpha*prev_int)/n\n",
    "    if prev_n == n:\n",
    "        return int_\n",
    "    else:\n",
    "        return backward_reccur(int_, prev_n-1, n, alpha)"
   ]
  },
  {
   "cell_type": "markdown",
   "metadata": {},
   "source": [
    "$ I_{100}(\\alpha) \\approx 0$  \n",
    "$ I_0(0.1) = \\ln{\\frac{1,1}{0,1}} $  \n",
    "$ I_0(10) = \\ln{\\frac{11}{10}} $  "
   ]
  },
  {
   "cell_type": "code",
   "execution_count": 8,
   "metadata": {},
   "outputs": [],
   "source": [
    "I_100 = 0\n",
    "\n",
    "def I_0(alpha):\n",
    "    return math.log((1+alpha) / alpha)"
   ]
  },
  {
   "cell_type": "code",
   "execution_count": 9,
   "metadata": {},
   "outputs": [
    {
     "name": "stdout",
     "output_type": "stream",
     "text": [
      "0.0015936254980079682\n",
      "(0.03636363636363636+0j)\n",
      "0.0011428571428571427\n",
      "(9.167381616796119e+24+0j)\n"
     ]
    }
   ],
   "source": [
    "print(backward_reccur(I_100, 100, 25, 0.1))\n",
    "print(forward_reccur(I_0(0.1), 0, 25, 0.1))\n",
    "\n",
    "print(backward_reccur(I_100, 100, 25, 10))\n",
    "print(forward_reccur(I_0(10), 0, 25, 10))"
   ]
  },
  {
   "cell_type": "code",
   "execution_count": null,
   "metadata": {},
   "outputs": [],
   "source": []
  }
 ],
 "metadata": {
  "kernelspec": {
   "display_name": "Python 3",
   "language": "python",
   "name": "python3"
  },
  "language_info": {
   "codemirror_mode": {
    "name": "ipython",
    "version": 3
   },
   "file_extension": ".py",
   "mimetype": "text/x-python",
   "name": "python",
   "nbconvert_exporter": "python",
   "pygments_lexer": "ipython3",
   "version": "3.8.3"
  }
 },
 "nbformat": 4,
 "nbformat_minor": 4
}
