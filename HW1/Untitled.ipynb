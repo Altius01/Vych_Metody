{
 "cells": [
  {
   "cell_type": "code",
   "execution_count": 5,
   "metadata": {},
   "outputs": [
    {
     "name": "stdout",
     "output_type": "stream",
     "text": [
      "0.0035083534096819772\n",
      "0.037730290908831794\n"
     ]
    }
   ],
   "source": [
    "import numpy as np\n",
    "import math\n",
    "\n",
    "\n",
    "#обратная рекурсия для I_25(10)\n",
    "i = 50\n",
    "integral_50 = 1/50\n",
    "alpha = 10\n",
    "while i > 25:\n",
    "    integral_50 = 1 / (i * alpha) - integral_50 / alpha\n",
    "    i -= 1\n",
    "print(integral_50)\n",
    "\n",
    "#прямая рекурсия для I_25(0.1)\n",
    "integral_0 = math.log(1.1)\n",
    "i = 0\n",
    "alpha = 0.1\n",
    "while i < 24:\n",
    "    integral = 1/(i + 1) - integral_0 * alpha\n",
    "    integral_0 = integral\n",
    "    i += 1\n",
    "print(integral_0)\n"
   ]
  },
  {
   "cell_type": "code",
   "execution_count": null,
   "metadata": {},
   "outputs": [],
   "source": []
  }
 ],
 "metadata": {
  "kernelspec": {
   "display_name": "Python 3",
   "language": "python",
   "name": "python3"
  },
  "language_info": {
   "codemirror_mode": {
    "name": "ipython",
    "version": 3
   },
   "file_extension": ".py",
   "mimetype": "text/x-python",
   "name": "python",
   "nbconvert_exporter": "python",
   "pygments_lexer": "ipython3",
   "version": "3.8.3"
  }
 },
 "nbformat": 4,
 "nbformat_minor": 4
}
