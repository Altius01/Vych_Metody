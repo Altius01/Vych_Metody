{
 "cells": [
  {
   "cell_type": "code",
   "execution_count": 106,
   "metadata": {},
   "outputs": [],
   "source": [
    "#Введите, разделяя пробелом, коэффициенты уравнения: x^2 + bx + c = 0\n",
    "#Вводится строка: a b c\n",
    "import cmath as math\n",
    "\n",
    "def solver(b, c):\n",
    "    isIm = False\n",
    "    sq_c = math.sqrt(c)\n",
    "    D = b*b - 4*c \n",
    "    print(\"   D =\", D)\n",
    "    sq_D = math.sqrt(D)\n",
    "    print(\"   sq_D =\",sq_D)\n",
    "    x1, x2 = complex(-b/2,(sq_D/2)), complex(-b/2,-(sq_D/2))\n",
    "    if x1.real**2 + x1.imag**2 > x2.real**2 + x2.imag**2:\n",
    "        return x1, c/x1\n",
    "    else:\n",
    "        return x2, c/x2"
   ]
  },
  {
   "cell_type": "code",
   "execution_count": 88,
   "metadata": {},
   "outputs": [],
   "source": [
    "from numpy import allclose"
   ]
  },
  {
   "cell_type": "code",
   "execution_count": 89,
   "metadata": {},
   "outputs": [],
   "source": [
    "variants = [{'b': 4.0, 'c': 3.0},\n",
    "            {'b': 2.0, 'c': 1.0},\n",
    "            {'b': 0.5, 'c': 4.0},\n",
    "            {'b': 1e10, 'c': 3.0},\n",
    "            {'b': -1e10, 'c': 4.0},]"
   ]
  },
  {
   "cell_type": "code",
   "execution_count": 107,
   "metadata": {},
   "outputs": [
    {
     "name": "stdout",
     "output_type": "stream",
     "text": [
      "   D = 4.0\n",
      "   sq_D = (2+0j)\n",
      "(3+0j) True\n",
      "   D = 0.0\n",
      "   sq_D = 0j\n",
      "(1+0j) True\n",
      "   D = -15.75\n",
      "   sq_D = 3.968626966596886j\n",
      "(4+0j) True\n",
      "   D = 1e+20\n",
      "   sq_D = (10000000000+0j)\n",
      "(3+0j) True\n",
      "   D = 1e+20\n",
      "   sq_D = (10000000000+0j)\n",
      "(4+0j) True\n"
     ]
    }
   ],
   "source": [
    "for var in variants:\n",
    "    x1, x2 = solver(**var)\n",
    "    print(x1*x2, allclose(x1*x2, var['c']))"
   ]
  },
  {
   "cell_type": "code",
   "execution_count": null,
   "metadata": {},
   "outputs": [],
   "source": []
  }
 ],
 "metadata": {
  "kernelspec": {
   "display_name": "Python 3",
   "language": "python",
   "name": "python3"
  },
  "language_info": {
   "codemirror_mode": {
    "name": "ipython",
    "version": 3
   },
   "file_extension": ".py",
   "mimetype": "text/x-python",
   "name": "python",
   "nbconvert_exporter": "python",
   "pygments_lexer": "ipython3",
   "version": "3.8.3"
  }
 },
 "nbformat": 4,
 "nbformat_minor": 4
}
