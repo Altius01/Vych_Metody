{
 "cells": [
  {
   "cell_type": "code",
   "execution_count": 3,
   "metadata": {},
   "outputs": [
    {
     "name": "stdout",
     "output_type": "stream",
     "text": [
      "reccur(0) = 1\n",
      "reccur(1) = -3\n",
      "reccur(2) = 9\n"
     ]
    }
   ],
   "source": [
    "def reccur(n):\n",
    "    if n == 0:\n",
    "        return 1\n",
    "    if n == 1:\n",
    "        return -3\n",
    "    return -reccur(n-1) + 6*reccur(n-2)\n",
    "\n",
    "print('reccur(0) =',reccur(0))\n",
    "print('reccur(1) =',reccur(1))\n",
    "print('reccur(2) =',reccur(2))"
   ]
  },
  {
   "cell_type": "markdown",
   "metadata": {},
   "source": [
    "Предположение: $reccur(n) = (-1)^n * 3^n$  \n",
    "Докажем по индукции:  \n",
    "    База: см. выше  \n",
    "    Шаг:  \n",
    "        Для четного n:  \n",
    "            $reccur(n-2) = 3^{(n-2)}$  \n",
    "            $reccur(n-1) = -3^{(n-1)}$   \n",
    "            Тогда: $reccur(n) = 3^{(n-1)} + 2*3*3^{(n-2)} = 3*3^{(n-1)} = 3^n$  \n",
    "        Для нечетного n:  \n",
    "            $reccur(n-2) = -3^{(n-2)}$    \n",
    "            $reccur(n-1) = 3^{(n-1)}$    \n",
    "            Тогда: $reccur(n) = -3^{(n-1)} - 2*3*3^{(n-2)} = -3*3^{(n-1)} = -3^n$    "
   ]
  },
  {
   "cell_type": "markdown",
   "metadata": {},
   "source": [
    "Ответ: $reccur(2020) = 3^2020$"
   ]
  },
  {
   "cell_type": "code",
   "execution_count": 2,
   "metadata": {},
   "outputs": [
    {
     "name": "stdout",
     "output_type": "stream",
     "text": [
      "963.7849345337181\n"
     ]
    }
   ],
   "source": [
    "import math\n",
    "print(math.log10(3**2020))"
   ]
  }
 ],
 "metadata": {
  "kernelspec": {
   "display_name": "Python 3",
   "language": "python",
   "name": "python3"
  },
  "language_info": {
   "codemirror_mode": {
    "name": "ipython",
    "version": 3
   },
   "file_extension": ".py",
   "mimetype": "text/x-python",
   "name": "python",
   "nbconvert_exporter": "python",
   "pygments_lexer": "ipython3",
   "version": "3.8.3"
  }
 },
 "nbformat": 4,
 "nbformat_minor": 4
}
