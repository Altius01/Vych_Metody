{
 "cells": [
  {
   "cell_type": "markdown",
   "metadata": {},
   "source": [
    "$I_n(\\alpha) = \\int_0^1 \\frac{x^n}{x+\\alpha} dx =  \\int_0^1 \\frac{x^{n-1}(x-\\alpha + \\alpha)}{x+\\alpha} dx =  \n",
    "\\int_0^1 \\frac{x^{n-1}}{\\alpha} dx - \\alpha\\int_0^1 \\frac{x^{n-1}}{x+\\alpha} dx = \\frac{1}{n} - \\alpha I_{n-1}(\\alpha)$"
   ]
  },
  {
   "cell_type": "markdown",
   "metadata": {},
   "source": [
    "$ I_{n-1}(\\alpha) = \\frac{\\frac{1}{n} - I_n(\\alpha)}{\\alpha}$"
   ]
  },
  {
   "cell_type": "markdown",
   "metadata": {},
   "source": [
    "$ I_0(\\alpha) = \\int_0^1 \\frac{1}{x+\\alpha} dx = \\ln{\\frac{1+\\alpha}{\\alpha}}$"
   ]
  },
  {
   "cell_type": "code",
   "execution_count": 29,
   "metadata": {},
   "outputs": [],
   "source": [
    "import cmath as math"
   ]
  },
  {
   "cell_type": "code",
   "execution_count": 30,
   "metadata": {},
   "outputs": [],
   "source": [
    "I_50 = 0.02\n",
    "\n",
    "def I_0(alpha):\n",
    "    return math.log((1+alpha) / alpha)"
   ]
  },
  {
   "cell_type": "code",
   "execution_count": 31,
   "metadata": {},
   "outputs": [],
   "source": [
    "def forward_reccur(n, alpha):\n",
    "    i = 1\n",
    "    int_ = I_0(alpha)\n",
    "    while i <= n:\n",
    "        int_ = 1/n - alpha*int_\n",
    "        i += 1\n",
    "    return int_"
   ]
  },
  {
   "cell_type": "code",
   "execution_count": 32,
   "metadata": {},
   "outputs": [],
   "source": [
    "def backward_reccur(n, alpha):\n",
    "    i = 50\n",
    "    int_ = I_50\n",
    "    while i > n:\n",
    "        int_ = 1/(alpha*n) - int_/alpha\n",
    "        i -= 1\n",
    "    return int_"
   ]
  },
  {
   "cell_type": "markdown",
   "metadata": {},
   "source": [
    "$ I_{50}(\\alpha) \\approx \\frac{1}{50}$  \n",
    "$ I_0(0.1) = \\ln{\\frac{1,1}{0,1}} $  \n",
    "$ I_0(10) = \\ln{\\frac{11}{10}} $  "
   ]
  },
  {
   "cell_type": "code",
   "execution_count": 35,
   "metadata": {},
   "outputs": [
    {
     "name": "stdout",
     "output_type": "stream",
     "text": [
      "1.6363636363636353e+23\n",
      "(0.03636363636363636+0j)\n",
      "0.0036363636363636364\n",
      "(-9.16738161679612e+23+0j)\n"
     ]
    }
   ],
   "source": [
    "print(backward_reccur(25, 0.1))\n",
    "print(forward_reccur(25, 0.1))\n",
    "\n",
    "print(backward_reccur(25, 10))\n",
    "print(forward_reccur(25, 10))"
   ]
  }
 ],
 "metadata": {
  "kernelspec": {
   "display_name": "Python 3",
   "language": "python",
   "name": "python3"
  },
  "language_info": {
   "codemirror_mode": {
    "name": "ipython",
    "version": 3
   },
   "file_extension": ".py",
   "mimetype": "text/x-python",
   "name": "python",
   "nbconvert_exporter": "python",
   "pygments_lexer": "ipython3",
   "version": "3.8.3"
  }
 },
 "nbformat": 4,
 "nbformat_minor": 4
}
