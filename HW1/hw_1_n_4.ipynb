{
 "cells": [
  {
   "cell_type": "markdown",
   "metadata": {},
   "source": [
    "Хар-ий многочлен матрицы А: l^2 - 2l + (1-10d) = 0  \n",
    "e(d) = 1 + sqrt(10d)  \n",
    "k(d) = e(d)' = sqrt(5/2) * sqrt(1/d)\n",
    "\n",
    "Тогда:  \n",
    "k(10) = sqrt(5/20) = 0.5  \n",
    "k(0.1) = sqrt(50/2) = 5"
   ]
  }
 ],
 "metadata": {
  "kernelspec": {
   "display_name": "Python 3",
   "language": "python",
   "name": "python3"
  },
  "language_info": {
   "codemirror_mode": {
    "name": "ipython",
    "version": 3
   },
   "file_extension": ".py",
   "mimetype": "text/x-python",
   "name": "python",
   "nbconvert_exporter": "python",
   "pygments_lexer": "ipython3",
   "version": "3.8.3"
  }
 },
 "nbformat": 4,
 "nbformat_minor": 4
}
