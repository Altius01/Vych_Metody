{
 "cells": [
  {
   "cell_type": "code",
   "execution_count": 51,
   "metadata": {},
   "outputs": [],
   "source": [
    "import math\n",
    "\n",
    "def round_to_n(x, n):\n",
    "    if x == 0:\n",
    "        return x\n",
    "    else:\n",
    "        return round(x, -int(math.floor(math.log10(abs(x)))) + (n-1))"
   ]
  },
  {
   "cell_type": "code",
   "execution_count": 70,
   "metadata": {},
   "outputs": [],
   "source": [
    "res = 0\n",
    "\n",
    "res_1 = 0\n",
    "for k in range(2, 11):\n",
    "    res_1 = round_to_n(res_1 + 1/k**2, 4)\n",
    "res_2 = 0\n",
    "for k in range(11, 101):\n",
    "    res_2 = round_to_n(res_2 + 1/k**2, 4)\n",
    "res_3 = 0\n",
    "for k in range(101, 501):\n",
    "    res_3 = round_to_n(res_3 + 1/k**2, 4)\n",
    "res_4 = 0\n",
    "for k in range(501, 1001):\n",
    "    res_4 = round_to_n(res_4 + 1/k**2, 4)\n",
    "res_5 = 0\n",
    "for k in range(1001, 1501):\n",
    "    res_5 = round_to_n(res_5 + 1/k**2, 4)\n",
    "res_6 = 0\n",
    "for k in range(1501, 2001):\n",
    "    res_6 = round_to_n(res_6 + 1/k**2, 4)\n",
    "res_7 = 0\n",
    "for k in range(2001, 2501):\n",
    "    res_7 = round_to_n(res_7 + 1/k**2, 4)\n",
    "res_8 = 0\n",
    "for k in range(2501, 3001):\n",
    "    res_8 = round_to_n(res_8 + 1/k**2, 4)\n",
    "    \n",
    "res = round_to_n(1 + res_1 + res_2 + res_3 + res_4 + res_5 + res_6 + res_7 + res_8, 4)"
   ]
  },
  {
   "cell_type": "code",
   "execution_count": 71,
   "metadata": {},
   "outputs": [
    {
     "name": "stdout",
     "output_type": "stream",
     "text": [
      "1.645\n"
     ]
    }
   ],
   "source": [
    "print(res)"
   ]
  },
  {
   "cell_type": "code",
   "execution_count": null,
   "metadata": {},
   "outputs": [],
   "source": []
  }
 ],
 "metadata": {
  "kernelspec": {
   "display_name": "Python 3",
   "language": "python",
   "name": "python3"
  },
  "language_info": {
   "codemirror_mode": {
    "name": "ipython",
    "version": 3
   },
   "file_extension": ".py",
   "mimetype": "text/x-python",
   "name": "python",
   "nbconvert_exporter": "python",
   "pygments_lexer": "ipython3",
   "version": "3.8.3"
  }
 },
 "nbformat": 4,
 "nbformat_minor": 4
}
