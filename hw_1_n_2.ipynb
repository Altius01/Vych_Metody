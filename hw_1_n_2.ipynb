{
 "cells": [
  {
   "cell_type": "code",
   "execution_count": null,
   "metadata": {},
   "outputs": [],
   "source": [
    "#Введите, разделяя пробелом, коэффициенты уравнения: ax^2 + bx + c = 0\n",
    "#Вводится строка: a b c\n",
    "import numpy as np\n",
    "\n",
    "def solver(a, b, c):\n",
    "    isIm = False\n",
    "    D = b**2 - 4*a*c\n",
    "    if D < 0:\n",
    "        isIm = True\n",
    "        D *= -1\n",
    "    sq_D = np.sqrt(D)\n",
    "    if isIm:\n",
    "        return (complex(-b/a,sq_D/a), complex(-b/a,-sq_D/a))\n",
    "    else:\n",
    "        return ((-b+sq_D)/a, (-b-sq_D)/a)\n",
    "\n",
    "coef = [int(i) for i in input().split()]\n",
    "print(solver(coef[0], coef[1], coef[2]))"
   ]
  }
 ],
 "metadata": {
  "kernelspec": {
   "display_name": "Python 3",
   "language": "python",
   "name": "python3"
  },
  "language_info": {
   "codemirror_mode": {
    "name": "ipython",
    "version": 3
   },
   "file_extension": ".py",
   "mimetype": "text/x-python",
   "name": "python",
   "nbconvert_exporter": "python",
   "pygments_lexer": "ipython3",
   "version": "3.8.3"
  }
 },
 "nbformat": 4,
 "nbformat_minor": 4
}
