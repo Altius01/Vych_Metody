{
 "cells": [
  {
   "cell_type": "code",
   "execution_count": 1,
   "metadata": {},
   "outputs": [],
   "source": [
    "import numpy as np\n",
    "\n",
    "def get_rl_vec(A):\n",
    "    U, S, V = np.linalg.svd(A)\n",
    "    right_vec = []\n",
    "    for i in V:\n",
    "        right_vec.append(np.transpose(i))\n",
    "    left_vec = []\n",
    "    U = np.transpose(U)\n",
    "    for i in U:\n",
    "        left_vec.append(np.transpose(i))\n",
    "        \n",
    "    return left_vec, right_vec"
   ]
  },
  {
   "cell_type": "code",
   "execution_count": 2,
   "metadata": {},
   "outputs": [
    {
     "name": "stdout",
     "output_type": "stream",
     "text": [
      "3 2\n",
      "0\n",
      "2\n",
      "0\n",
      "0\n",
      "0\n",
      "0\n",
      "([array([1., 0., 0.]), array([0., 1., 0.]), array([0., 0., 1.])], [array([0., 1.]), array([-1.,  0.])])\n"
     ]
    }
   ],
   "source": [
    "A = np.zeros(shape=(n,m))\n",
    "\n",
    "k = 0\n",
    "while True:\n",
    "    x = input()\n",
    "    if x:\n",
    "        for i in map(float, x.split()):\n",
    "            A[k][]\n",
    "    else:\n",
    "        break\n",
    "\n",
    "        \n",
    "print(get_rl_vec(A))        "
   ]
  },
  {
   "cell_type": "code",
   "execution_count": null,
   "metadata": {},
   "outputs": [],
   "source": []
  }
 ],
 "metadata": {
  "kernelspec": {
   "display_name": "Python 3",
   "language": "python",
   "name": "python3"
  },
  "language_info": {
   "codemirror_mode": {
    "name": "ipython",
    "version": 3
   },
   "file_extension": ".py",
   "mimetype": "text/x-python",
   "name": "python",
   "nbconvert_exporter": "python",
   "pygments_lexer": "ipython3",
   "version": "3.8.3"
  }
 },
 "nbformat": 4,
 "nbformat_minor": 4
}
