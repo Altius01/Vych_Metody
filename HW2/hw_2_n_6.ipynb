{
 "cells": [
  {
   "cell_type": "code",
   "execution_count": 17,
   "metadata": {},
   "outputs": [],
   "source": [
    "import timeit\n",
    "import numpy as np\n",
    "import matplotlib.pyplot as plt\n",
    "\n",
    "import time\n",
    "\n",
    "start_time = time.time()\n",
    "\n",
    "\n",
    "def woodbury(A, U, V, C):\n",
    "    A_inv = np.linalg.inv(A)\n",
    "    return A_inv - np.dot(np.dot(A_inv.dot(U), np.linalg.inv(C + np.dot(V.dot(A_inv),U))),V.dot(A_inv))"
   ]
  },
  {
   "cell_type": "code",
   "execution_count": 18,
   "metadata": {},
   "outputs": [
    {
     "name": "stdout",
     "output_type": "stream",
     "text": [
      "[[0.92965576 0.         0.         ... 0.         0.         0.        ]\n",
      " [0.         0.64829385 0.         ... 0.         0.         0.        ]\n",
      " [0.         0.         0.66909697 ... 0.         0.         0.        ]\n",
      " ...\n",
      " [0.         0.         0.         ... 0.00297567 0.         0.        ]\n",
      " [0.         0.         0.         ... 0.         0.06340806 0.        ]\n",
      " [0.         0.         0.         ... 0.         0.         0.55475218]]\n",
      "[[0.17260208 0.         0.         ... 0.         0.         0.        ]\n",
      " [0.         0.73140329 0.         ... 0.         0.         0.        ]\n",
      " [0.         0.         0.6613643  ... 0.         0.         0.        ]\n",
      " ...\n",
      " [0.         0.         0.         ... 0.48133554 0.         0.        ]\n",
      " [0.         0.         0.         ... 0.         0.47662704 0.        ]\n",
      " [0.         0.         0.         ... 0.         0.         0.83190425]]\n",
      "[[0.75197386 0.         0.         ... 0.         0.         0.        ]\n",
      " [0.         0.19099437 0.         ... 0.         0.         0.        ]\n",
      " [0.         0.         0.40689247 ... 0.         0.         0.        ]\n",
      " ...\n",
      " [0.         0.         0.         ... 0.01429909 0.         0.        ]\n",
      " [0.         0.         0.         ... 0.         0.88636302 0.        ]\n",
      " [0.         0.         0.         ... 0.         0.         0.83950598]]\n",
      "[[0.36730273 0.         0.         ... 0.         0.         0.        ]\n",
      " [0.         0.99034901 0.         ... 0.         0.         0.        ]\n",
      " [0.         0.         0.2259773  ... 0.         0.         0.        ]\n",
      " ...\n",
      " [0.         0.         0.         ... 0.87348025 0.         0.        ]\n",
      " [0.         0.         0.         ... 0.         0.83619284 0.        ]\n",
      " [0.         0.         0.         ... 0.         0.         0.57103562]]\n",
      "[[0.22005281 0.         0.         ... 0.         0.         0.        ]\n",
      " [0.         0.78499557 0.         ... 0.         0.         0.        ]\n",
      " [0.         0.         0.19917584 ... 0.         0.         0.        ]\n",
      " ...\n",
      " [0.         0.         0.         ... 0.73019119 0.         0.        ]\n",
      " [0.         0.         0.         ... 0.         0.17870991 0.        ]\n",
      " [0.         0.         0.         ... 0.         0.         0.93406855]]\n",
      "[[0.6016807  0.         0.         ... 0.         0.         0.        ]\n",
      " [0.         0.7950533  0.         ... 0.         0.         0.        ]\n",
      " [0.         0.         0.91274312 ... 0.         0.         0.        ]\n",
      " ...\n",
      " [0.         0.         0.         ... 0.12479242 0.         0.        ]\n",
      " [0.         0.         0.         ... 0.         0.45892971 0.        ]\n",
      " [0.         0.         0.         ... 0.         0.         0.83687121]]\n",
      "[[0.23398376 0.         0.         ... 0.         0.         0.        ]\n",
      " [0.         0.5782752  0.         ... 0.         0.         0.        ]\n",
      " [0.         0.         0.40623671 ... 0.         0.         0.        ]\n",
      " ...\n",
      " [0.         0.         0.         ... 0.67332615 0.         0.        ]\n",
      " [0.         0.         0.         ... 0.         0.34168717 0.        ]\n",
      " [0.         0.         0.         ... 0.         0.         0.45364473]]\n",
      "[[0.1153153  0.         0.         ... 0.         0.         0.        ]\n",
      " [0.         0.52746808 0.         ... 0.         0.         0.        ]\n",
      " [0.         0.         0.98214544 ... 0.         0.         0.        ]\n",
      " ...\n",
      " [0.         0.         0.         ... 0.41556399 0.         0.        ]\n",
      " [0.         0.         0.         ... 0.         0.93705936 0.        ]\n",
      " [0.         0.         0.         ... 0.         0.         0.33868286]]\n",
      "[[0.83764123 0.         0.         ... 0.         0.         0.        ]\n",
      " [0.         0.06144153 0.         ... 0.         0.         0.        ]\n",
      " [0.         0.         0.00265952 ... 0.         0.         0.        ]\n",
      " ...\n",
      " [0.         0.         0.         ... 0.11424003 0.         0.        ]\n",
      " [0.         0.         0.         ... 0.         0.17623611 0.        ]\n",
      " [0.         0.         0.         ... 0.         0.         0.51981003]]\n",
      "[27.992255926132202, 29.50574564933777, 30.308077096939087, 27.939005374908447, 29.34461283683777, 29.255349159240723, 29.657525062561035, 29.20156502723694, 29.59444236755371]\n"
     ]
    },
    {
     "data": {
      "text/plain": [
       "[<matplotlib.lines.Line2D at 0x7fcf67d39460>]"
      ]
     },
     "execution_count": 18,
     "metadata": {},
     "output_type": "execute_result"
    },
    {
     "data": {
      "image/png": "[encoded data removed]",
      "text/plain": [
       "<Figure size 432x288 with 1 Axes>"
      ]
     },
     "metadata": {
      "needs_background": "light"
     },
     "output_type": "display_data"
    }
   ],
   "source": [
    "def get_times(p, k):\n",
    "    p = 5000\n",
    "    k = 10\n",
    "    A = np.diag(np.random.sample((p, 1)[0]))\n",
    "    print(A)\n",
    "    U = np.random.sample((p, k))\n",
    "    V = np.random.sample((k, p))\n",
    "    C = np.eye(k, k)\n",
    "    start_time_w = time.time()\n",
    "    woodbury(A, U, V, C)\n",
    "    time_w = time.time() - start_time_w\n",
    "    start_time = time.time()\n",
    "    np.linalg.inv(A + np.dot(U, C).dot(V))\n",
    "    time_ = time.time() - start_time_w\n",
    "    return time_, time_w\n",
    "\n",
    "time_w = []\n",
    "time_ = []\n",
    "p = [i for i in range(100, 1000, 100)]\n",
    "for i in p:\n",
    "    times = get_times(i, 100)\n",
    "    time_.append(times[0])\n",
    "    time_w.append(times[1])\n",
    "print(time_)\n",
    "plt.plot(p, time_)"
   ]
  },
  {
   "cell_type": "code",
   "execution_count": null,
   "metadata": {},
   "outputs": [],
   "source": [
    "plot(p, time_w)"
   ]
  },
  {
   "cell_type": "code",
   "execution_count": null,
   "metadata": {},
   "outputs": [],
   "source": [
    "plt.figure()\n",
    "plt.pl"
   ]
  }
 ],
 "metadata": {
  "kernelspec": {
   "display_name": "Python 3",
   "language": "python",
   "name": "python3"
  },
  "language_info": {
   "codemirror_mode": {
    "name": "ipython",
    "version": 3
   },
   "file_extension": ".py",
   "mimetype": "text/x-python",
   "name": "python",
   "nbconvert_exporter": "python",
   "pygments_lexer": "ipython3",
   "version": "3.8.3"
  }
 },
 "nbformat": 4,
 "nbformat_minor": 4
}
