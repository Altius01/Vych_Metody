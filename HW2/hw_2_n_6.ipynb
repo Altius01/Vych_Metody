{
 "cells": [
  {
   "cell_type": "code",
   "execution_count": 16,
   "metadata": {},
   "outputs": [],
   "source": [
    "import timeit\n",
    "code_to_test = \"\"\"\n",
    "import numpy as np\n",
    "\n",
    "\n",
    "def woodbury(A, U, V):\n",
    "    A_inv = np.linalg.inv(A)\n",
    "    C = np.fromfunction(lambda x,y: x==y, (V.shape[0],V.shape[0])) * 1\n",
    "    return A_inv - np.dot(np.dot(A_inv.dot(U), np.linalg.inv(C + np.dot(V.dot(A_inv),U))),V.dot(A_inv))\n",
    "    \n",
    "p = 5000\n",
    "k = 100\n",
    "\n",
    "A = np.random.sample((p, p))\n",
    "U = np.random.sample((p, k))\n",
    "V = np.random.sample((k, p))\n",
    "C = np.fromfunction(lambda x,y: x==y, (k,k)) * 1\n",
    "\"\"\""
   ]
  },
  {
   "cell_type": "code",
   "execution_count": 17,
   "metadata": {},
   "outputs": [
    {
     "name": "stdout",
     "output_type": "stream",
     "text": [
      "0.2689884900009929 14.171992519999549\n"
     ]
    }
   ],
   "source": [
    "code_to_test_2 = \"\"\"\n",
    "import numpy as np\n",
    "\n",
    "p = 5000\n",
    "k = 100\n",
    "A = np.random.sample((p, p))\n",
    "U = np.random.sample((p, k))\n",
    "V = np.random.sample((k, p))\n",
    "C = np.fromfunction(lambda x,y: x==y, (k,k)) * 1\n",
    "np.linalg.inv(A + np.dot(U, C).dot(V))\n",
    "\"\"\"\n",
    "\n",
    "time_woodbury = timeit.timeit(code_to_test, number=1)/1\n",
    "time_linalg = timeit.timeit(code_to_test_2, number=1)/1\n",
    "print(time_woodbury, time_linalg)"
   ]
  },
  {
   "cell_type": "code",
   "execution_count": null,
   "metadata": {},
   "outputs": [],
   "source": []
  }
 ],
 "metadata": {
  "kernelspec": {
   "display_name": "Python 3",
   "language": "python",
   "name": "python3"
  },
  "language_info": {
   "codemirror_mode": {
    "name": "ipython",
    "version": 3
   },
   "file_extension": ".py",
   "mimetype": "text/x-python",
   "name": "python",
   "nbconvert_exporter": "python",
   "pygments_lexer": "ipython3",
   "version": "3.8.3"
  }
 },
 "nbformat": 4,
 "nbformat_minor": 4
}
