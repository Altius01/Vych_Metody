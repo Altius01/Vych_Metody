{
 "cells": [
  {
   "cell_type": "markdown",
   "metadata": {},
   "source": [
    "$$X: nxm ; \\Omega : mxm ; \\Delta : nxn ; A: nxn$$\n",
    "$$F(A) = AX(X^{T}AX)^{-1}$$\n",
    "$$F(A): nxm$$\n",
    "$$X^{T}F(A) = x^{T}AX(X^{T}AX)^{-1}$$\n",
    "$$X^{T}F(A) = ones(mxm)$$\n"
   ]
  }
 ],
 "metadata": {
  "kernelspec": {
   "display_name": "Python 3",
   "language": "python",
   "name": "python3"
  },
  "language_info": {
   "codemirror_mode": {
    "name": "ipython",
    "version": 3
   },
   "file_extension": ".py",
   "mimetype": "text/x-python",
   "name": "python",
   "nbconvert_exporter": "python",
   "pygments_lexer": "ipython3",
   "version": "3.8.3"
  }
 },
 "nbformat": 4,
 "nbformat_minor": 4
}
