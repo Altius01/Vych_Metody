{
 "cells": [
  {
   "cell_type": "code",
   "execution_count": 3,
   "metadata": {},
   "outputs": [],
   "source": [
    "import numpy as np\n",
    "\n",
    "def get_rl_vec(A):\n",
    "    U, S, V = np.linalg.svd(A)\n",
    "    right_vec = []\n",
    "    for i in V:\n",
    "        right_vec.append(np.transpose(i))\n",
    "    left_vec = []\n",
    "    U = np.transpose(U)\n",
    "    for i in U:\n",
    "        left_vec.append(np.transpose(i))\n",
    "        \n",
    "    return left_vec, right_vec"
   ]
  },
  {
   "cell_type": "code",
   "execution_count": 26,
   "metadata": {},
   "outputs": [
    {
     "name": "stdout",
     "output_type": "stream",
     "text": [
      "3 0\n",
      "0 -2\n",
      "\n",
      "[[ 3.  0.]\n",
      " [ 0. -2.]]\n",
      "([array([1., 0.]), array([0., 1.])], [array([1., 0.]), array([-0., -1.])])\n"
     ]
    }
   ],
   "source": [
    "A = np.array([])\n",
    "\n",
    "k = 0\n",
    "while True:\n",
    "    x = input()\n",
    "    if x != '':\n",
    "        B = np.array([])\n",
    "        for i in map(float, x.split()):\n",
    "            B = np.append(B, i)\n",
    "        if k >= 1:\n",
    "            A = np.vstack([A, B])\n",
    "        else:\n",
    "            A = B\n",
    "        k += 1\n",
    "    else:\n",
    "        break\n",
    "\n",
    "print(A)\n",
    "print(get_rl_vec(A))        "
   ]
  },
  {
   "cell_type": "markdown",
   "metadata": {},
   "source": []
  }
 ],
 "metadata": {
  "kernelspec": {
   "display_name": "Python 3",
   "language": "python",
   "name": "python3"
  },
  "language_info": {
   "codemirror_mode": {
    "name": "ipython",
    "version": 3
   },
   "file_extension": ".py",
   "mimetype": "text/x-python",
   "name": "python",
   "nbconvert_exporter": "python",
   "pygments_lexer": "ipython3",
   "version": "3.8.3"
  }
 },
 "nbformat": 4,
 "nbformat_minor": 4
}
