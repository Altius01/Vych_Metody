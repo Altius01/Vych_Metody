{
 "cells": [
  {
   "cell_type": "code",
   "execution_count": null,
   "metadata": {},
   "outputs": [],
   "source": [
    "import timeit\n",
    "import numpy as np\n",
    "import matplotlib.pyplot as plt\n",
    "\n",
    "import time\n",
    "\n",
    "start_time = time.time()\n",
    "\n",
    "\n",
    "def woodbury(A, U, V, C):\n",
    "    A_inv = np.linalg.inv(A)\n",
    "    return A_inv - np.dot(np.dot(A_inv.dot(U), np.linalg.inv(C + np.dot(V.dot(A_inv),U))),V.dot(A_inv))"
   ]
  },
  {
   "cell_type": "code",
   "execution_count": null,
   "metadata": {},
   "outputs": [],
   "source": [
    "def get_times(p, k):\n",
    "    p = 5000\n",
    "    k = 10\n",
    "    A = np.diag(np.random.sample((p, 1)[0]))\n",
    "    print(A)\n",
    "    U = np.random.sample((p, k))\n",
    "    V = np.random.sample((k, p))\n",
    "    C = np.eye(k, k)\n",
    "    start_time_w = time.time()\n",
    "    woodbury(A, U, V, C)\n",
    "    time_w = time.time() - start_time_w\n",
    "    start_time = time.time()\n",
    "    np.linalg.inv(A + np.dot(U, C).dot(V))\n",
    "    time_ = time.time() - start_time_w\n",
    "    return time_, time_w\n",
    "\n",
    "time_w = []\n",
    "time_ = []\n",
    "p = [i for i in range(100, 1000, 100)]\n",
    "for i in p:\n",
    "    times = get_times(i, 100)\n",
    "    time_.append(times[0])\n",
    "    time_w.append(times[1])\n",
    "print(time_)\n",
    "plt.plot(p, time_)"
   ]
  },
  {
   "cell_type": "code",
   "execution_count": null,
   "metadata": {},
   "outputs": [],
   "source": []
  },
  {
   "cell_type": "code",
   "execution_count": null,
   "metadata": {},
   "outputs": [],
   "source": []
  }
 ],
 "metadata": {
  "kernelspec": {
   "display_name": "Python 3",
   "language": "python",
   "name": "python3"
  }
 },
 "nbformat": 4,
 "nbformat_minor": 4
}
