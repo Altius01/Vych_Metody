{
 "cells": [
  {
   "cell_type": "markdown",
   "metadata": {},
   "source": [
    "1) Док-ть $||x||_2 <= \\sqrt{m}||x||_\\infty$  \n",
    "$ ||x||_2 = \\sqrt{\\sum_{i=0}^m x_m^2} <= \\sqrt{\\sum_{i=0}^m \\underset{1 <= j <= m}\\max{x_j}^2} = \\sqrt{m}||x||_\\infty$"
   ]
  },
  {
   "cell_type": "code",
   "execution_count": null,
   "metadata": {},
   "outputs": [],
   "source": []
  }
 ],
 "metadata": {
  "kernelspec": {
   "display_name": "Python 3",
   "language": "python",
   "name": "python3"
  },
  "language_info": {
   "codemirror_mode": {
    "name": "ipython",
    "version": 3
   },
   "file_extension": ".py",
   "mimetype": "text/x-python",
   "name": "python",
   "nbconvert_exporter": "python",
   "pygments_lexer": "ipython3",
   "version": "3.8.3"
  }
 },
 "nbformat": 4,
 "nbformat_minor": 4
}
