{
 "cells": [
  {
   "cell_type": "markdown",
   "metadata": {},
   "source": [
    "# Аппроксимация методом наименьших квадратов."
   ]
  },
  {
   "cell_type": "markdown",
   "metadata": {},
   "source": [
    "Рассмотрим функцию $y = f(x)$ определенной набором значений $y_0, y_1, \\cdots, y_n$ в точках $x_0, x_1, \\cdots, x_n$."
   ]
  },
  {
   "cell_type": "code",
   "execution_count": 9,
   "metadata": {},
   "outputs": [],
   "source": [
    "import numpy as np\n",
    "import matplotlib.pyplot as plt\n",
    "\n",
    "x = [-1, -0.7, -0.43, -0.14, -0.14, 0.43, 0.71, 1, 1.29, 1.57, 1.86, 2.14, 2.43, 2.71, 3]\n",
    "y = [-2.25, -0.77, 0.21, 0.44, 0.64, 0.03, -0.22, -0.84, -1.2, -1.03, -0.37, 0.61, 2.67, 5.04, 8.90]"
   ]
  },
  {
   "cell_type": "markdown",
   "metadata": {},
   "source": [
    "## I Найдите многочлен наилучшего приближения.\n",
    "\n",
    "$$\n",
    "P_m(x) = a_0 + a_1 x + \\cdots + a_m x^m\n",
    "$$\n",
    "\n",
    "используйте линейный метод наименьших квадратов. С его помощью\n",
    "\n",
    "1. реализуйте алгоритм, создающий  \"design matrix\", используя $1, x, \\cdots, x^m$ в качестве базисных функций.\n",
    "\n",
    "2. постройте явно нормальную систему уравнений задачи наименьших квадратов при фиксированных значениях $m$.\n",
    "\n",
    "3. решите систему уравнений, чтобы найти коэффициенты $P_m(x)$ для $m = 0, 1, 2, \\dots$. Для решения задач линейной алгебры можете использовать либо библиотечные функции (`numpy.linalg.solve`), либо Вашу реализацию LU - разложение из 1 недели.\n",
    "\n",
    "(33% итоговой оценки)"
   ]
  },
  {
   "cell_type": "code",
   "execution_count": 10,
   "metadata": {},
   "outputs": [],
   "source": [
    "Design_matrix = np.zeros((14, m), dtype=float)\n",
    "for i in range(14):\n",
    "    for j in range(m):\n",
    "        Design_matrix[i][j] = x1[i] ** j"
   ]
  },
  {
   "cell_type": "markdown",
   "metadata": {},
   "source": [
    "## II \n",
    "\n",
    "Чтобы найти оптимальное значение $m$, используйти следующий критерий: возьмем $m=0, 1, 2, \\dots$, для каждого значения $m$ вычислим\n",
    "\n",
    "$$\n",
    "\\sigma_m^2 = \\frac{1}{n - m} \\sum_{k=0}^n \\left( P_m(x_k) - y_k \\right)^2\n",
    "$$\n",
    "\n",
    "и возьмем такое значение $m$, при котором $\\sigma_m$ стабилизируется или начинает расти.\n",
    "\n",
    "(33% итоговой оценки)"
   ]
  },
  {
   "cell_type": "code",
   "execution_count": 24,
   "metadata": {},
   "outputs": [],
   "source": [
    "def P(x, pow_):\n",
    "    P = 0\n",
    "    for i in range(pow_ + 1):\n",
    "        P += x ** pow_\n",
    "    return P\n",
    "\n",
    "\n",
    "def get_sigma(m):\n",
    "    sum_ = 0\n",
    "    for i in range(len(y)):\n",
    "        sum_ += (P(x[i], m) - y[i])**2\n",
    "    return sum_/(len(y) - m)\n",
    "    \n",
    "\n",
    "m_sigma = 0\n",
    "sigma = 0\n",
    "sigma_prev = 1\n",
    "m_ = []\n",
    "\n",
    "while sigma_prev >= sigma and m_sigma < len(y) - 1:\n",
    "    m_sigma += 1\n",
    "    sigma_last = sigma\n",
    "    sigma = get_sigma(m_sigma)\n",
    "    m_.append(m_sigma)"
   ]
  },
  {
   "cell_type": "markdown",
   "metadata": {},
   "source": [
    "Постройте ваши полиномы $P_m(x)$ вместе с данными. Визуально сравните полиномы различных степеней. Согласуется ли визуальное сравнение с ожидаемым оптимальным значением $m$?"
   ]
  },
  {
   "cell_type": "code",
   "execution_count": 25,
   "metadata": {},
   "outputs": [
    {
     "data": {
      "image/png": "[encoded data removed]",
      "text/plain": [
       "<Figure size 432x288 with 1 Axes>"
      ]
     },
     "metadata": {
      "needs_background": "light"
     },
     "output_type": "display_data"
    }
   ],
   "source": [
    "plt.plot(x1, y1, color='g')\n",
    "for m in m_:\n",
    "    p_m = [P(x_, m) for x_ in x]\n",
    "    plt.plot(x1, p_m, color='r')\n",
    "    plt.show()"
   ]
  },
  {
   "cell_type": "markdown",
   "metadata": {},
   "source": [
    "## III. МНК с использовнием QR - разложениея.\n",
    "\n",
    "Для оптимального значения $m$ из предыдущей части решите задачу МНК, используя безматричную реализацию QR - разложения. Для решения задач линейной алгебры можете использовать библиотечные функции (обратите внимание на `numpy.linalg.solve`, `numpy.linalg.qr` и т.д.) или код предыдущих недель.\n",
    "Сравните результат с ответом, полученным при решении системы уравнений.\n",
    "\n",
    "(33% итоговой оценки)"
   ]
  },
  {
   "cell_type": "code",
   "execution_count": 46,
   "metadata": {},
   "outputs": [
    {
     "name": "stdout",
     "output_type": "stream",
     "text": [
      "4\n",
      "[11.86    -8.302    2.19291 -0.03254]\n",
      "[[  15.        14.73      37.8203    83.51262]\n",
      " [  14.73      37.8203    83.51262  214.15354]\n",
      " [  37.8203    83.51262  214.15354  554.16202]\n",
      " [  83.51262  214.15354  554.16202 1490.29794]]\n",
      "4 [ 1.97124 -1.60785 -0.60493  0.3455 ]\n"
     ]
    },
    {
     "data": {
      "image/png": "[encoded data removed]",
      "text/plain": [
       "<Figure size 432x288 with 1 Axes>"
      ]
     },
     "metadata": {
      "needs_background": "light"
     },
     "output_type": "display_data"
    }
   ],
   "source": [
    "m = int(input())\n",
    "coefs = np.zeros(m)\n",
    "for i in range(m):\n",
    "    coefs[i] = sum((x1[i] ** i) * yi for yi in y1)\n",
    "\n",
    "matrix = np.zeros((m, m), dtype=float)\n",
    "for i in range(m):\n",
    "    for j in range(m):\n",
    "        matrix[i][j] = sum(xi**(i+j) for xi in x1)\n",
    "\n",
    "sol = np.linalg.solve(matrix, coefs)\n",
    "print(sol)\n",
    "\n",
    "p_m = np.zeros(15)\n",
    "for i in range(15):\n",
    "    for j in range(m):\n",
    "        p_m[i] += (x1[i] ** (j + 1)) * sol[j]\n",
    "\n",
    "plt.plot(x1, y1, color='g')\n",
    "plt.plot(x1, p_m, color='r')\n",
    "plt.show()"
   ]
  },
  {
   "cell_type": "code",
   "execution_count": null,
   "metadata": {},
   "outputs": [],
   "source": []
  },
  {
   "cell_type": "code",
   "execution_count": null,
   "metadata": {},
   "outputs": [],
   "source": []
  }
 ],
 "metadata": {
  "kernelspec": {
   "display_name": "Python 3",
   "language": "python",
   "name": "python3"
  },
  "language_info": {
   "codemirror_mode": {
    "name": "ipython",
    "version": 3
   },
   "file_extension": ".py",
   "mimetype": "text/x-python",
   "name": "python",
   "nbconvert_exporter": "python",
   "pygments_lexer": "ipython3",
   "version": "3.8.3"
  }
 },
 "nbformat": 4,
 "nbformat_minor": 2
}
