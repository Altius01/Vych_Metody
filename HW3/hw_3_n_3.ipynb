{
 "cells": [
  {
   "cell_type": "code",
   "execution_count": 13,
   "metadata": {},
   "outputs": [
    {
     "data": {
      "text/plain": [
       "<matplotlib.image.AxesImage at 0x7ff4d704a0a0>"
      ]
     },
     "execution_count": 13,
     "metadata": {},
     "output_type": "execute_result"
    },
    {
     "data": {
      "image/png": "[encoded data removed]",
      "text/plain": [
       "<Figure size 432x288 with 1 Axes>"
      ]
     },
     "metadata": {
      "needs_background": "light"
     },
     "output_type": "display_data"
    }
   ],
   "source": [
    "import numpy as np\n",
    "import matplotlib.pyplot as plt\n",
    "\n",
    "a = np.zeros((15, 28))\n",
    "a[2:-2, 1] = 1; a[2, 2:6] = 1\n",
    "a[2:7, 6] = 1; a[7:-2, 7] = 1\n",
    "a[7, 2:7] = 1; a[-3, 2:7] = 1\n",
    "a[2:-2, 10] = 1; a[2:-2, 14] = 1\n",
    "a[2:-2, 18] = 1; a[-3, 10:19] = 1\n",
    "\n",
    "a[2, 21:-2] = 1; a[7, 21:-2] = 1\n",
    "a[12, 21:-2] = 1; a[2:13, -2] = 1 \n",
    "plt.imshow(a)"
   ]
  },
  {
   "cell_type": "code",
   "execution_count": 69,
   "metadata": {},
   "outputs": [
    {
     "name": "stdout",
     "output_type": "stream",
     "text": [
      "[8.65821175e+00 4.21505898e+00 2.18518482e+00 1.81299689e+00\n",
      " 4.54595131e-01 5.36223898e-16 1.92765170e-16 1.79863590e-16\n",
      " 9.48279124e-17 2.19507633e-17 5.21927194e-32 7.87342887e-33\n",
      " 0.00000000e+00 0.00000000e+00 0.00000000e+00]\n"
     ]
    }
   ],
   "source": [
    "U, S, V = np.linalg.svd(a, full_matrices = True)\n",
    "print(S)\n",
    "\n",
    "\n",
    "def toFixed(f: float, n=0):\n",
    "    a, b = str(f).split('.')\n",
    "    return '{}.{}{}'.format(a, b[:n], '0'*(n-len(b)))\n",
    "\n",
    "def make_S(s, n, m):\n",
    "    S = np.zeros((n, m))\n",
    "    for i in range(s.shape[0]):\n",
    "        S[i][i] = s[i]\n",
    "    return S"
   ]
  },
  {
   "cell_type": "code",
   "execution_count": 97,
   "metadata": {},
   "outputs": [
    {
     "data": {
      "text/plain": [
       "<matplotlib.image.AxesImage at 0x7ff4d6f68370>"
      ]
     },
     "execution_count": 97,
     "metadata": {},
     "output_type": "execute_result"
    },
    {
     "data": {
      "image/png": "[encoded data removed]",
      "text/plain": [
       "<Figure size 432x288 with 1 Axes>"
      ]
     },
     "metadata": {
      "needs_background": "light"
     },
     "output_type": "display_data"
    }
   ],
   "source": [
    "def get_max_eigs(a, n):\n",
    "    max_ = []\n",
    "    rez  = np.zeros((len(a)))\n",
    "    for i in range(len(a)):\n",
    "        if a[i] > 1e-15:\n",
    "            max_.append((a[i], i))\n",
    "        else:\n",
    "            max_.append((0, i))\n",
    "    max_ = sorted(max_, reverse = True)\n",
    "    \n",
    "    for i in range(n):\n",
    "        rez[max_[i][1]] = max_[i][0]\n",
    "    return rez\n",
    "\n",
    "def clear_matrix(a):\n",
    "    for i in range(a.shape[0]):\n",
    "        for j in range(a.shape[1]):\n",
    "            if a[i][j] <= 1e-15:\n",
    "                a[i][j] = 0.0\n",
    "    return a\n",
    "\n",
    "#fig, axes = plt.subplots(2, 1)\n",
    "for i in range(15, 16):\n",
    "    #print(S)\n",
    "    S_ = make_S(get_max_eigs(S, i), 15, 28)\n",
    "    #print(get_max_eigs(S, i))\n",
    "    #axes[i-14].imshow(np.dot(U.dot(S_), V.T)) \n",
    "#plt.show()\n",
    "plt.imshow(np.dot(U.dot(make_S(get_max_eigs(S, 15), 15, 28)), V.T))"
   ]
  },
  {
   "cell_type": "code",
   "execution_count": null,
   "metadata": {},
   "outputs": [],
   "source": []
  }
 ],
 "metadata": {
  "kernelspec": {
   "display_name": "Python 3",
   "language": "python",
   "name": "python3"
  },
  "language_info": {
   "codemirror_mode": {
    "name": "ipython",
    "version": 3
   },
   "file_extension": ".py",
   "mimetype": "text/x-python",
   "name": "python",
   "nbconvert_exporter": "python",
   "pygments_lexer": "ipython3",
   "version": "3.8.3"
  }
 },
 "nbformat": 4,
 "nbformat_minor": 4
}
