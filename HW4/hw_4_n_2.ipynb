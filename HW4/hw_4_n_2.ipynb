{
 "cells": [
  {
   "cell_type": "code",
   "execution_count": 31,
   "metadata": {},
   "outputs": [],
   "source": [
    "import numpy as np\n",
    "import matplotlib.pyplot as plt"
   ]
  },
  {
   "cell_type": "code",
   "execution_count": 38,
   "metadata": {},
   "outputs": [
    {
     "name": "stdout",
     "output_type": "stream",
     "text": [
      "0\n",
      "[-7.79944031 -5.57984682 -4.3026176  -1.84471813 -0.41998427  1.44749307\n",
      "  2.69223684  3.94242431  5.71565246  7.89510392]\n",
      "[-7.02107022  6.92540662 -4.63389417  4.49808852  4.30261711 -3.94242382\n",
      " -2.69223684  1.84471813 -1.44749307  0.41998427] 94\n"
     ]
    }
   ],
   "source": [
    "n = 10\n",
    "a = np.random.normal(0, 1, (n, n))\n",
    "A = a + a.T\n",
    "eig = np.linalg.eigvalsh(A)\n",
    "\n",
    "min_eig_num = np.argmin(eig)\n",
    "eig_m = np.min(eig)\n",
    "\n",
    "print(min_eig_num)\n",
    "print(eig)\n",
    "\n",
    "it = 0\n",
    "delta = 1\n",
    "\n",
    "while delta > 0.1:\n",
    "    Q, R = np.linalg.qr(A)\n",
    "    A = Q.T @ A @ Q\n",
    "    min_ = (np.diag(A)*np.sign(np.diag(A)[0]/eig[0]))[min_eig_num]\n",
    "    delta = abs((min_ - eig_m)/eig_m)\n",
    "    it += 1\n",
    "print(np.diag(A)*np.sign(np.diag(A)[0]/eig[0]), it)"
   ]
  },
  {
   "cell_type": "code",
   "execution_count": null,
   "metadata": {},
   "outputs": [],
   "source": []
  }
 ],
 "metadata": {
  "kernelspec": {
   "display_name": "Python 3",
   "language": "python",
   "name": "python3"
  },
  "language_info": {
   "codemirror_mode": {
    "name": "ipython",
    "version": 3
   },
   "file_extension": ".py",
   "mimetype": "text/x-python",
   "name": "python",
   "nbconvert_exporter": "python",
   "pygments_lexer": "ipython3",
   "version": "3.8.3"
  }
 },
 "nbformat": 4,
 "nbformat_minor": 4
}
