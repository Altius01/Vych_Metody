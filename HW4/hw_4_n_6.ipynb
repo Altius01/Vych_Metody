{
 "cells": [
  {
   "cell_type": "code",
   "execution_count": 1,
   "metadata": {},
   "outputs": [],
   "source": [
    "import numpy as np\n",
    "import matplotlib.pyplot as plt"
   ]
  },
  {
   "cell_type": "code",
   "execution_count": 2,
   "metadata": {},
   "outputs": [],
   "source": [
    "n = 100\n",
    "d = np.random.normal(0, 1, n)\n",
    "u = np.random.normal(0, 1, n)\n",
    "\n",
    "u = u[:, np.newaxis]\n",
    "\n",
    "A_ = np.diag(d)\n",
    "eig_ = np.linalg.eigvalsh(A_)\n",
    "\n",
    "A = A_ + (u@u.T)/(u.T@u)"
   ]
  },
  {
   "cell_type": "code",
   "execution_count": 3,
   "metadata": {},
   "outputs": [
    {
     "name": "stdout",
     "output_type": "stream",
     "text": [
      "-1.8655438465971201\n"
     ]
    }
   ],
   "source": [
    "print(np.min(np.linalg.eigvalsh(A)))"
   ]
  },
  {
   "cell_type": "code",
   "execution_count": 24,
   "metadata": {},
   "outputs": [
    {
     "name": "stdout",
     "output_type": "stream",
     "text": [
      "-1.5298110909075362 \n",
      "\n",
      "[-0.06214537 -0.01994765  0.00810498  0.07741712  0.05343903 -0.02501572\n",
      "  0.28491465  0.07559625 -0.43698766 -0.84163535] \n",
      "\n",
      "-1.5298110909075604\n",
      "[ 2.12625969e+00  1.51603331e-01  9.77668516e-01 -2.93657761e+00\n",
      "  4.22463353e-01 -1.34955896e+00 -7.81931297e-02 -4.76022366e-01\n",
      "  9.34489545e+01 -7.61674831e+01]\n",
      "120.43970669920597\n"
     ]
    }
   ],
   "source": [
    "n = 10\n",
    "d = np.random.normal(0, 1, n)\n",
    "u = np.random.normal(0, 1, n)\n",
    "\n",
    "u = u[:, np.newaxis]\n",
    "\n",
    "A = np.diag(d)\n",
    "\n",
    "A = A + (u@u.T)/(u.T@u)\n",
    "\n",
    "e, eigen_vec = np.linalg.eig(A)\n",
    "\n",
    "print(np.min(e), '\\n')\n",
    "print(eigen_vec[np.argmin(e)], '\\n')\n",
    "\n",
    "it_count = 1000\n",
    "for i in range(it_count):\n",
    "    Q, R = np.linalg.qr(A)\n",
    "    A = Q.T @ A @ Q\n",
    "\n",
    "eig_min = np.min(np.diag(A))\n",
    "print(eig_min)\n",
    "\n",
    "v = []\n",
    "for i in range(n):\n",
    "    v.append(u[i][0]/(d[i]-eig_min))\n",
    "v = np.array(v)\n",
    "print(v)\n",
    "\n",
    "print(np.linalg.norm(v-eigen_vec[np.argmin(e)]))"
   ]
  },
  {
   "cell_type": "code",
   "execution_count": null,
   "metadata": {},
   "outputs": [],
   "source": []
  }
 ],
 "metadata": {
  "kernelspec": {
   "display_name": "Python 3",
   "language": "python",
   "name": "python3"
  },
  "language_info": {
   "codemirror_mode": {
    "name": "ipython",
    "version": 3
   },
   "file_extension": ".py",
   "mimetype": "text/x-python",
   "name": "python",
   "nbconvert_exporter": "python",
   "pygments_lexer": "ipython3",
   "version": "3.8.3"
  }
 },
 "nbformat": 4,
 "nbformat_minor": 4
}
