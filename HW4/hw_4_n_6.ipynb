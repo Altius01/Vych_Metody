{
 "cells": [
  {
   "cell_type": "code",
   "execution_count": 1,
   "metadata": {},
   "outputs": [],
   "source": [
    "import numpy as np\n",
    "import matplotlib.pyplot as plt"
   ]
  },
  {
   "cell_type": "code",
   "execution_count": 2,
   "metadata": {},
   "outputs": [],
   "source": [
    "n = 100\n",
    "d = np.random.normal(0, 1, n)\n",
    "u = np.random.normal(0, 1, n)\n",
    "\n",
    "u = u[:, np.newaxis]\n",
    "\n",
    "A_ = np.diag(d)\n",
    "eig_ = np.linalg.eigvalsh(A_)\n",
    "\n",
    "A = A_ + (u@u.T)/(u.T@u)"
   ]
  },
  {
   "cell_type": "code",
   "execution_count": 3,
   "metadata": {},
   "outputs": [
    {
     "name": "stdout",
     "output_type": "stream",
     "text": [
      "-2.493344335315803\n"
     ]
    }
   ],
   "source": [
    "print(np.min(np.linalg.eigvalsh(A)))"
   ]
  },
  {
   "cell_type": "code",
   "execution_count": 32,
   "metadata": {},
   "outputs": [
    {
     "name": "stdout",
     "output_type": "stream",
     "text": [
      "-1.3921985782750361\n",
      "[ -0.72034236  -0.05928667   0.55616263  -1.65734479   0.1581135\n",
      "   0.09965485   0.17413014  -0.26884188  -0.43074623 -52.02351228]\n",
      "-0.04733880656607151\n"
     ]
    }
   ],
   "source": [
    "n = 10\n",
    "d = np.random.normal(0, 1, n)\n",
    "u = np.random.normal(0, 1, n)\n",
    "\n",
    "u = u[:, np.newaxis]\n",
    "\n",
    "A = np.diag(d)\n",
    "eigs = np.diag(A)\n",
    "\n",
    "A = A + (u@u.T)/(u.T@u)\n",
    "\n",
    "it_count = 1000\n",
    "for i in range(it_count):\n",
    "    Q, R = np.linalg.qr(A)\n",
    "    A = Q.T @ A @ Q\n",
    "\n",
    "eig_min = np.min(np.diag(A))\n",
    "print(eig_min)\n",
    "\n",
    "v = []\n",
    "for i in range(n):\n",
    "    v.append(u[i][0]/(eigs[i]-eig_min))\n",
    "v = np.array(v)\n",
    "print(v)\n",
    "\n",
    "print(np.dot(A@v[:], v[:])/np.dot(v[:], v[:]))"
   ]
  },
  {
   "cell_type": "code",
   "execution_count": null,
   "metadata": {},
   "outputs": [],
   "source": []
  }
 ],
 "metadata": {
  "kernelspec": {
   "display_name": "Python 3",
   "language": "python",
   "name": "python3"
  },
  "language_info": {
   "codemirror_mode": {
    "name": "ipython",
    "version": 3
   },
   "file_extension": ".py",
   "mimetype": "text/x-python",
   "name": "python",
   "nbconvert_exporter": "python",
   "pygments_lexer": "ipython3",
   "version": "3.8.3"
  }
 },
 "nbformat": 4,
 "nbformat_minor": 4
}
