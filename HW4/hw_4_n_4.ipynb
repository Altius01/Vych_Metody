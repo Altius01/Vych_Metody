{
 "cells": [
  {
   "cell_type": "code",
   "execution_count": 35,
   "metadata": {},
   "outputs": [],
   "source": [
    "import numpy as np\n",
    "import matplotlib.pyplot as plt"
   ]
  },
  {
   "cell_type": "code",
   "execution_count": 36,
   "metadata": {},
   "outputs": [
    {
     "name": "stdout",
     "output_type": "stream",
     "text": [
      "[-0.28399787  1.21473855  2.3184589   3.75080042]\n",
      "[-0.77250966 -0.58000058 -0.08832178 -0.2429556 ]\n"
     ]
    }
   ],
   "source": [
    "A = np.array([[3, 1, 0, 0],[1, 2, 0, 1],[0, 0, 1, 1],[0, 1, 1, 1]])\n",
    "sys = np.linalg.eigh(A)\n",
    "print(sys[0])\n",
    "hi = sys[1][:, -1]\n",
    "print(hi)"
   ]
  },
  {
   "cell_type": "code",
   "execution_count": 37,
   "metadata": {},
   "outputs": [],
   "source": [
    "v = np.random.random(4)\n",
    "v /= np.sqrt(v@v)"
   ]
  },
  {
   "cell_type": "code",
   "execution_count": 44,
   "metadata": {},
   "outputs": [
    {
     "name": "stdout",
     "output_type": "stream",
     "text": [
      "[-0.77239132 -0.58008038 -0.08843306 -0.2431008 ] 1\n",
      "3.7508003449390914\n"
     ]
    }
   ],
   "source": [
    "it = 0\n",
    "delta = 1\n",
    "while delta > 1e-3:\n",
    "    v = A@v\n",
    "    v /= np.sqrt(v@v)\n",
    "    v *= np.sign(v[0]/hi[0])\n",
    "    delta = np.linalg.norm(v - hi)\n",
    "    it += 1\n",
    "print(v, it)\n",
    "print(np.dot(A@v, v)/np.dot(v, v))"
   ]
  },
  {
   "cell_type": "code",
   "execution_count": 45,
   "metadata": {},
   "outputs": [
    {
     "name": "stdout",
     "output_type": "stream",
     "text": [
      "[-0.77205485 -0.58029952 -0.0887809  -0.24351944] 4\n",
      "3.750799238861307\n"
     ]
    }
   ],
   "source": [
    "lambda_ = 3.5\n",
    "\n",
    "delta = 1\n",
    "\n",
    "v = np.random.random(4)\n",
    "v /= np.sqrt(v@v)\n",
    "\n",
    "it = 0\n",
    "while delta > 1e-3:\n",
    "    v = np.linalg.inv(A - lambda_*np.eye(4)) @ v\n",
    "    v /= np.sqrt(v@v)\n",
    "    v *= np.sign(v[0]/hi[0])\n",
    "    delta = np.linalg.norm(v - hi)\n",
    "    it += 1\n",
    "print(v, it)\n",
    "print(np.dot(A@v, v)/np.dot(v, v))"
   ]
  },
  {
   "cell_type": "code",
   "execution_count": 46,
   "metadata": {},
   "outputs": [
    {
     "name": "stdout",
     "output_type": "stream",
     "text": [
      "[-0.77254622 -0.57998017 -0.08827828 -0.24290386] 3\n",
      "3.750800412880113\n"
     ]
    }
   ],
   "source": [
    "lambda_ = 3.7\n",
    "\n",
    "delta = 1\n",
    "\n",
    "v = np.random.random(4)\n",
    "v /= np.sqrt(v@v)\n",
    "\n",
    "it = 0\n",
    "while delta > 1e-3:\n",
    "    v = np.linalg.inv(A - lambda_*np.eye(4)) @ v\n",
    "    v /= np.sqrt(v@v)\n",
    "    v *= np.sign(v[0]/hi[0])\n",
    "    delta = np.linalg.norm(v - hi)\n",
    "    it += 1\n",
    "    \n",
    "print(v, it)\n",
    "print(np.dot(A@v, v)/np.dot(v, v))"
   ]
  },
  {
   "cell_type": "code",
   "execution_count": null,
   "metadata": {},
   "outputs": [],
   "source": []
  },
  {
   "cell_type": "code",
   "execution_count": null,
   "metadata": {},
   "outputs": [],
   "source": []
  }
 ],
 "metadata": {
  "kernelspec": {
   "display_name": "Python 3",
   "language": "python",
   "name": "python3"
  },
  "language_info": {
   "codemirror_mode": {
    "name": "ipython",
    "version": 3
   },
   "file_extension": ".py",
   "mimetype": "text/x-python",
   "name": "python",
   "nbconvert_exporter": "python",
   "pygments_lexer": "ipython3",
   "version": "3.8.3"
  }
 },
 "nbformat": 4,
 "nbformat_minor": 4
}
