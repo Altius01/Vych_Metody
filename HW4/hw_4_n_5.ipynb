{
 "cells": [
  {
   "cell_type": "code",
   "execution_count": 16,
   "metadata": {},
   "outputs": [
    {
     "name": "stdout",
     "output_type": "stream",
     "text": [
      "[[-1  1  1 ...  0  0  0]\n",
      " [ 0 -1  1 ...  0  0  0]\n",
      " [ 0  0 -1 ...  0  0  0]\n",
      " ...\n",
      " [ 0  0  0 ... -1  1  1]\n",
      " [ 0  0  0 ...  0 -1  1]\n",
      " [ 0  0  0 ...  0  0 -1]]\n",
      "[-1. -1. -1. -1. -1. -1. -1. -1. -1. -1. -1. -1. -1. -1. -1. -1. -1. -1.\n",
      " -1. -1. -1. -1. -1. -1. -1. -1. -1. -1. -1. -1. -1. -1.]\n"
     ]
    }
   ],
   "source": [
    "import numpy as np\n",
    "from scipy.linalg import expm\n",
    "import matplotlib.pyplot as plt\n",
    "\n",
    "A = []\n",
    "\n",
    "for i in range(32):\n",
    "    B = []\n",
    "    for j in range(32):\n",
    "        if i == j:\n",
    "            B.append(-1)\n",
    "        elif i == j-1:\n",
    "            B.append(1)\n",
    "        elif i == j-2:\n",
    "            B.append(1)\n",
    "        else:\n",
    "            B.append(0)\n",
    "    A.append(B)\n",
    "                   \n",
    "Arr = np.array(A)\n",
    "\n",
    "print(Arr)\n",
    "print(np.linalg.eigvalsh(Arr))"
   ]
  },
  {
   "cell_type": "code",
   "execution_count": 19,
   "metadata": {},
   "outputs": [
    {
     "data": {
      "text/plain": [
       "[<matplotlib.lines.Line2D at 0x7f4f07afdeb0>]"
      ]
     },
     "execution_count": 19,
     "metadata": {},
     "output_type": "execute_result"
    },
    {
     "data": {
      "image/png": "[encoded data removed]",
      "text/plain": [
       "<Figure size 432x288 with 1 Axes>"
      ]
     },
     "metadata": {
      "needs_background": "light"
     },
     "output_type": "display_data"
    }
   ],
   "source": [
    "x = [t/2 for t in range(0, 101)]\n",
    "y = [np.linalg.norm(expm(Arr*(t))) for t in x]\n",
    "plt.plot(x, y)"
   ]
  },
  {
   "cell_type": "code",
   "execution_count": null,
   "metadata": {},
   "outputs": [],
   "source": []
  },
  {
   "cell_type": "code",
   "execution_count": null,
   "metadata": {},
   "outputs": [],
   "source": []
  }
 ],
 "metadata": {
  "kernelspec": {
   "display_name": "Python 3",
   "language": "python",
   "name": "python3"
  },
  "language_info": {
   "codemirror_mode": {
    "name": "ipython",
    "version": 3
   },
   "file_extension": ".py",
   "mimetype": "text/x-python",
   "name": "python",
   "nbconvert_exporter": "python",
   "pygments_lexer": "ipython3",
   "version": "3.8.3"
  }
 },
 "nbformat": 4,
 "nbformat_minor": 4
}
