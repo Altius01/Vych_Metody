{
 "cells": [
  {
   "cell_type": "code",
   "execution_count": 31,
   "metadata": {},
   "outputs": [],
   "source": [
    "import numpy as np\n",
    "import matplotlib.pyplot as plt"
   ]
  },
  {
   "cell_type": "code",
   "execution_count": 36,
   "metadata": {},
   "outputs": [
    {
     "name": "stdout",
     "output_type": "stream",
     "text": [
      "0\n",
      "[-6.81434615 -5.65959791 -4.73472928 -4.28615991 -1.7196786   0.93798972\n",
      "  2.29791677  3.36654     4.95342868  7.14719034]\n",
      "0.6343459065975722\n",
      "0.5471537677126637\n",
      "0.5041414695163071\n",
      "0.4963037907180947\n",
      "0.5229167632543253\n",
      "0.5847460778608866\n",
      "0.6784928927461078\n",
      "0.7947923797592329\n",
      "0.9204842316972633\n",
      "0.9568366227772347\n",
      "0.8453941685781369\n",
      "0.748588775964191\n",
      "0.6663146185348093\n",
      "0.596693805573569\n",
      "0.5373482343474852\n",
      "0.48606924273158797\n",
      "0.4410627314350332\n",
      "0.40097165313298\n",
      "0.36480939747591495\n",
      "0.33187269656863055\n",
      "0.30166262138978706\n",
      "0.2738221538552781\n",
      "0.24809029278011274\n",
      "0.22426978680874624\n",
      "0.20220515047435703\n",
      "0.18176805990077186\n",
      "0.1628478729739484\n",
      "0.14534562156171044\n",
      "0.12917030715097183\n",
      "0.11423669323888982\n",
      "0.10046404802533854\n",
      "0.08777547329687412\n",
      "[-6.21621369  5.8833257   5.65963919 -4.65211206  4.37500761  4.34456344\n",
      " -3.36653596 -2.29791676  1.71967859 -0.93798972] 32\n"
     ]
    }
   ],
   "source": [
    "n = 10\n",
    "a = np.random.normal(0, 1, (n, n))\n",
    "A = a + a.T\n",
    "eig = np.linalg.eigvalsh(A)\n",
    "\n",
    "min_eig_num = np.argmin(eig)\n",
    "eig_m = np.min(eig)\n",
    "\n",
    "print(min_eig_num)\n",
    "print(eig)\n",
    "\n",
    "it = 0\n",
    "delta = 1\n",
    "\n",
    "while delta > 0.1:\n",
    "    Q, R = np.linalg.qr(A)\n",
    "    A = Q.T @ A @ Q\n",
    "    min_ = (np.diag(A)*np.sign(np.diag(A)[0]/eig[0]))[min_eig_num]\n",
    "    delta = abs((min_ - eig_m)/eig_m)\n",
    "    it += 1\n",
    "print(np.diag(A)*np.sign(np.diag(A)[0]/eig[0]), it)"
   ]
  },
  {
   "cell_type": "code",
   "execution_count": null,
   "metadata": {},
   "outputs": [],
   "source": []
  }
 ],
 "metadata": {
  "kernelspec": {
   "display_name": "Python 3",
   "language": "python",
   "name": "python3"
  },
  "language_info": {
   "codemirror_mode": {
    "name": "ipython",
    "version": 3
   },
   "file_extension": ".py",
   "mimetype": "text/x-python",
   "name": "python",
   "nbconvert_exporter": "python",
   "pygments_lexer": "ipython3",
   "version": "3.8.3"
  }
 },
 "nbformat": 4,
 "nbformat_minor": 4
}
