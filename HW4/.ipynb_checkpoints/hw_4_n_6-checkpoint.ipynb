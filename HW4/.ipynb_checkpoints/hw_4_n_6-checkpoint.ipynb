{
 "cells": [
  {
   "cell_type": "code",
   "execution_count": 1,
   "metadata": {},
   "outputs": [],
   "source": [
    "import numpy as np\n",
    "import matplotlib.pyplot as plt"
   ]
  },
  {
   "cell_type": "code",
   "execution_count": 2,
   "metadata": {},
   "outputs": [],
   "source": [
    "n = 100\n",
    "d = np.random.normal(0, 1, n)\n",
    "u = np.random.normal(0, 1, n)\n",
    "\n",
    "u = u[:, np.newaxis]\n",
    "\n",
    "A_ = np.diag(d)\n",
    "eig_ = np.linalg.eigvalsh(A_)\n",
    "\n",
    "A = A_ + (u@u.T)/(u.T@u)"
   ]
  },
  {
   "cell_type": "code",
   "execution_count": 3,
   "metadata": {},
   "outputs": [
    {
     "name": "stdout",
     "output_type": "stream",
     "text": [
      "-1.8655438465971201\n"
     ]
    }
   ],
   "source": [
    "print(np.min(np.linalg.eigvalsh(A)))"
   ]
  },
  {
   "cell_type": "code",
   "execution_count": 6,
   "metadata": {},
   "outputs": [
    {
     "name": "stdout",
     "output_type": "stream",
     "text": [
      "-1.769029222306636\n",
      "[ 3.17925521  2.34376989 -1.76902922  0.73620464 -0.65634991 -0.49307043\n",
      " -0.32535288 -0.05320308 -0.14058101  0.29267347] [[ 1.00000000e+000  3.40816679e-016 -1.33514485e-017  4.95100850e-017\n",
      "  -8.08063156e-017 -2.86408153e-019  4.71311332e-018  2.24651898e-017\n",
      "  -6.11843544e-017 -1.86366733e-018]\n",
      " [ 0.00000000e+000 -1.00000000e+000 -1.40796535e-016 -1.13759074e-016\n",
      "   4.96689788e-017  2.91816786e-017  6.67573435e-018  6.19712337e-018\n",
      "   4.92696068e-017 -5.97298294e-018]\n",
      " [ 0.00000000e+000  8.46822523e-120 -1.00000000e+000  1.30413691e-017\n",
      "  -8.42189001e-019  1.58760620e-018 -2.74675959e-018  8.48908115e-018\n",
      "   3.27784016e-017 -1.38183704e-018]\n",
      " [ 0.00000000e+000  5.03198905e-191  5.29804423e-070 -1.00000000e+000\n",
      "   2.65626398e-016 -2.36848284e-016  1.83797002e-016 -8.24188702e-017\n",
      "   1.21189921e-016 -2.49742157e-017]\n",
      " [ 0.00000000e+000  5.03198905e-191  9.88747886e-070  1.55583012e-016\n",
      "  -1.00000000e+000 -7.94337182e-016  4.20892395e-017 -8.49935394e-017\n",
      "   4.80934694e-016  6.98761206e-018]\n",
      " [ 0.00000000e+000 -5.03198905e-191 -9.34935956e-070 -2.10839091e-017\n",
      "   4.92659458e-016 -1.00000000e+000  1.18431721e-015 -2.46689091e-016\n",
      "  -3.56865070e-016  8.53417530e-018]\n",
      " [ 0.00000000e+000 -5.03198905e-191 -8.79661371e-070 -2.96721780e-017\n",
      "  -3.48388121e-017  7.43509060e-016  1.00000000e+000  3.72600107e-016\n",
      "   3.29815456e-016  6.14082674e-016]\n",
      " [ 0.00000000e+000  0.00000000e+000 -6.73788633e-087 -1.72106341e-019\n",
      "   3.33147278e-017  1.00398942e-016  9.37681862e-017 -1.15135069e-017\n",
      "  -5.04423946e-017 -1.00000000e+000]\n",
      " [ 0.00000000e+000  5.03198905e-191  8.18766205e-070  5.14875307e-017\n",
      "  -2.25699270e-018 -2.80207656e-016 -6.21631225e-016 -3.26948192e-016\n",
      "   1.00000000e+000  6.55627064e-017]\n",
      " [ 0.00000000e+000  1.50959671e-190  2.36990732e-069 -1.34632563e-016\n",
      "   5.45966714e-017  3.71791311e-016  6.20806741e-016 -1.00000000e+000\n",
      "  -7.52372580e-016 -3.67680577e-017]]\n",
      "[-0.03786811 30.08060042 -1.10947587 -0.32100222  0.44668852 -0.28654973\n",
      " -0.08595103  1.02218778  0.84021008 -0.22357284]\n",
      "2.332655233877341\n"
     ]
    }
   ],
   "source": [
    "n = 10\n",
    "d = np.random.normal(0, 1, n)\n",
    "u = np.random.normal(0, 1, n)\n",
    "\n",
    "u = u[:, np.newaxis]\n",
    "\n",
    "A = np.diag(d)\n",
    "\n",
    "A = A + (u@u.T)/(u.T@u)\n",
    "\n",
    "it_count = 1000\n",
    "for i in range(it_count):\n",
    "    Q, R = np.linalg.qr(A)\n",
    "    A = Q.T @ A @ Q\n",
    "\n",
    "eig_min = np.min(np.diag(A))\n",
    "print(eig_min)\n",
    "\n",
    "e, eigen_vec = np.linalg.eig(A)\n",
    "\n",
    "print(e, eigen_vec)\n",
    "\n",
    "v = []\n",
    "for i in range(n):\n",
    "    v.append(u[i][0]/(d[i]-eig_min))\n",
    "v = np.array(v)\n",
    "print(v)\n",
    "\n",
    "print(np.dot(A@v[:], v[:])/np.dot(v[:], v[:]))"
   ]
  },
  {
   "cell_type": "code",
   "execution_count": null,
   "metadata": {},
   "outputs": [],
   "source": []
  },
  {
   "cell_type": "code",
   "execution_count": null,
   "metadata": {},
   "outputs": [],
   "source": []
  }
 ],
 "metadata": {
  "kernelspec": {
   "display_name": "Python 3",
   "language": "python",
   "name": "python3"
  },
  "language_info": {
   "codemirror_mode": {
    "name": "ipython",
    "version": 3
   },
   "file_extension": ".py",
   "mimetype": "text/x-python",
   "name": "python",
   "nbconvert_exporter": "python",
   "pygments_lexer": "ipython3",
   "version": "3.8.3"
  }
 },
 "nbformat": 4,
 "nbformat_minor": 4
}
