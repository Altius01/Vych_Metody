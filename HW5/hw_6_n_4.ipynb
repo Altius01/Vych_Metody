{
 "cells": [
  {
   "cell_type": "code",
   "execution_count": 1,
   "metadata": {},
   "outputs": [],
   "source": [
    "import numpy as np\n",
    "import matplotlib.pyplot as plt"
   ]
  },
  {
   "cell_type": "code",
   "execution_count": 2,
   "metadata": {},
   "outputs": [],
   "source": [
    "rnd = np.random.RandomState(1234)\n",
    "n = 10\n",
    "A = rnd.uniform(size=(n, n)) + np.diag([15]*n)\n",
    "b = rnd.uniform(size=n)"
   ]
  },
  {
   "cell_type": "code",
   "execution_count": 7,
   "metadata": {},
   "outputs": [
    {
     "data": {
      "text/plain": [
       "49.252401715589336"
      ]
     },
     "execution_count": 7,
     "metadata": {},
     "output_type": "execute_result"
    }
   ],
   "source": [
    "np.linalg.norm(A)"
   ]
  },
  {
   "cell_type": "code",
   "execution_count": 23,
   "metadata": {},
   "outputs": [],
   "source": [
    "def jacobi(arr, b, x0, maxiter=1000):\n",
    "    D = np.diag(np.diag(arr))\n",
    "    D_inv = np.linalg.pinv(D)\n",
    "    M = arr - D\n",
    "    for i in range(maxiter):\n",
    "        x0 = -1*D_inv@M@x0 + D_inv@b\n",
    "    return x0"
   ]
  },
  {
   "cell_type": "code",
   "execution_count": 32,
   "metadata": {},
   "outputs": [],
   "source": [
    "x = jacobi(A, b, np.ones((10)), maxiter=1000)"
   ]
  },
  {
   "cell_type": "code",
   "execution_count": 33,
   "metadata": {},
   "outputs": [
    {
     "data": {
      "text/plain": [
       "2.242025235105681e-16"
      ]
     },
     "execution_count": 33,
     "metadata": {},
     "output_type": "execute_result"
    }
   ],
   "source": [
    "np.linalg.norm(A@x-b)"
   ]
  },
  {
   "cell_type": "code",
   "execution_count": 38,
   "metadata": {},
   "outputs": [
    {
     "data": {
      "text/plain": [
       "<matplotlib.legend.Legend at 0x7faba3005670>"
      ]
     },
     "execution_count": 38,
     "metadata": {},
     "output_type": "execute_result"
    },
    {
     "data": {
      "image/png": "[encoded data removed]",
      "text/plain": [
       "<Figure size 432x288 with 1 Axes>"
      ]
     },
     "metadata": {
      "needs_background": "light"
     },
     "output_type": "display_data"
    }
   ],
   "source": [
    "it_count = 10\n",
    "x0 = 10\n",
    "\n",
    "errors = np.zeros(it_count)\n",
    "for i in range(it_count):\n",
    "    x = jacobi(A, b, np.ones((10)), maxiter=i)\n",
    "    errors[i] = np.linalg.norm(A@x-b)\n",
    "\n",
    "foo_lin = [1/i for i in range(1, it_count+1)]\n",
    "foo_quad = [1/i**2 for i in range(1, it_count+1)]\n",
    "plt.plot(range(it_count), errors, label='error')\n",
    "plt.plot(range(it_count), foo_lin, label='linear')\n",
    "plt.plot(range(it_count), foo_quad, label='quad')\n",
    "plt.legend()"
   ]
  },
  {
   "cell_type": "code",
   "execution_count": null,
   "metadata": {},
   "outputs": [],
   "source": []
  }
 ],
 "metadata": {
  "kernelspec": {
   "display_name": "Python 3",
   "language": "python",
   "name": "python3"
  },
  "language_info": {
   "codemirror_mode": {
    "name": "ipython",
    "version": 3
   },
   "file_extension": ".py",
   "mimetype": "text/x-python",
   "name": "python",
   "nbconvert_exporter": "python",
   "pygments_lexer": "ipython3",
   "version": "3.8.3"
  }
 },
 "nbformat": 4,
 "nbformat_minor": 4
}
