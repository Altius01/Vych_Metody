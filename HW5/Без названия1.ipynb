{
 "cells": [
  {
   "cell_type": "code",
   "execution_count": 8,
   "metadata": {},
   "outputs": [],
   "source": [
    "import numpy as np\n",
    "\n",
    "n = 10\n",
    "\n",
    "l = np.array([\n",
    "    [0, 0, 0, 1, 0, 0, 0, 0, 0, 0],\n",
    "    [0, 0, 0, 0, 0, 0, 0, 1, 0, 0],\n",
    "    [0, 0, 0, 0, 1, 0, 0, 1, 0, 0],\n",
    "    [1, 0, 0, 0, 1, 0, 1, 0, 0, 0],\n",
    "    [0, 0, 1, 1, 0, 0, 0, 0, 0, 0],\n",
    "    [0, 0, 0, 0, 0, 0, 0, 0, 1, 0],\n",
    "    [0, 0, 0, 1, 0, 0, 0, 1, 0, 1],\n",
    "    [0, 1, 1, 0, 0, 0, 1, 0, 1, 0],\n",
    "    [0, 0, 0, 0, 0, 1, 0, 1, 0, 0],\n",
    "    [0, 0, 0, 0, 0, 0, 1, 0, 0, 0],\n",
    "])"
   ]
  },
  {
   "cell_type": "code",
   "execution_count": 9,
   "metadata": {},
   "outputs": [],
   "source": [
    "def L(arr, j):\n",
    "    rez = 0\n",
    "    for i in arr[j]:\n",
    "        rez += i\n",
    "    return rez"
   ]
  },
  {
   "cell_type": "code",
   "execution_count": 11,
   "metadata": {},
   "outputs": [],
   "source": [
    "G = np.zeros((n, n))\n",
    "\n",
    "for i in range(n):\n",
    "    for j in range(n):\n",
    "        G[i][j] = l[i][j]/L(l, j)"
   ]
  },
  {
   "cell_type": "code",
   "execution_count": 13,
   "metadata": {},
   "outputs": [
    {
     "data": {
      "text/plain": [
       "array([-1.26079261, -1.12193553, -0.94940926, -0.41189382, -0.30033577,\n",
       "        0.28919639,  0.43927724,  0.9363002 ,  1.09023105,  1.28936212])"
      ]
     },
     "execution_count": 13,
     "metadata": {},
     "output_type": "execute_result"
    }
   ],
   "source": [
    "np.linalg.eigvalsh((G))"
   ]
  },
  {
   "cell_type": "code",
   "execution_count": 25,
   "metadata": {},
   "outputs": [],
   "source": [
    "def get_eig_vec(arr, r_0):\n",
    "    r_old = np.zeros(np.shape(r_0))\n",
    "    while np.linalg.norm(r_0 - r_old, ord=1) > 1e-4:\n",
    "        r_old = r_0\n",
    "        r_0 = (arr @ r_0)\n",
    "        r_0 /= np.linalg.norm(r_0)\n",
    "    return r_0"
   ]
  },
  {
   "cell_type": "code",
   "execution_count": 26,
   "metadata": {},
   "outputs": [],
   "source": [
    "p = get_eig_vec(G, np.ones((10,1)))"
   ]
  },
  {
   "cell_type": "code",
   "execution_count": 27,
   "metadata": {},
   "outputs": [
    {
     "data": {
      "text/plain": [
       "array([[0.14142038],\n",
       "       [0.14141867],\n",
       "       [0.28284018],\n",
       "       [0.42426897],\n",
       "       [0.28284387],\n",
       "       [0.14142558],\n",
       "       [0.42425805],\n",
       "       [0.56569836],\n",
       "       [0.28283628],\n",
       "       [0.14142428]])"
      ]
     },
     "execution_count": 27,
     "metadata": {},
     "output_type": "execute_result"
    }
   ],
   "source": [
    "G@p"
   ]
  },
  {
   "cell_type": "code",
   "execution_count": 28,
   "metadata": {},
   "outputs": [
    {
     "data": {
      "text/plain": [
       "array([[0.14142318],\n",
       "       [0.14142501],\n",
       "       [0.28284698],\n",
       "       [0.42426115],\n",
       "       [0.28284303],\n",
       "       [0.14141761],\n",
       "       [0.42427285],\n",
       "       [0.56567468],\n",
       "       [0.28285116],\n",
       "       [0.141419  ]])"
      ]
     },
     "execution_count": 28,
     "metadata": {},
     "output_type": "execute_result"
    }
   ],
   "source": [
    "p"
   ]
  },
  {
   "cell_type": "code",
   "execution_count": null,
   "metadata": {},
   "outputs": [],
   "source": []
  }
 ],
 "metadata": {
  "kernelspec": {
   "display_name": "Python 3",
   "language": "python",
   "name": "python3"
  },
  "language_info": {
   "codemirror_mode": {
    "name": "ipython",
    "version": 3
   },
   "file_extension": ".py",
   "mimetype": "text/x-python",
   "name": "python",
   "nbconvert_exporter": "python",
   "pygments_lexer": "ipython3",
   "version": "3.8.3"
  }
 },
 "nbformat": 4,
 "nbformat_minor": 4
}
