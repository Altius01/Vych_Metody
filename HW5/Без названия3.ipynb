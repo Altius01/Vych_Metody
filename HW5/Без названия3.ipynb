{
 "cells": [
  {
   "cell_type": "code",
   "execution_count": 32,
   "metadata": {},
   "outputs": [],
   "source": [
    "import numpy as np\n",
    "import matplotlib.pyplot as plt"
   ]
  },
  {
   "cell_type": "code",
   "execution_count": 28,
   "metadata": {},
   "outputs": [],
   "source": [
    "def newton_iteration(f, fder, x0, eps=1e-5, maxiter=1000):\n",
    "    \"\"\"Newton's root finding method for f(x)=0\n",
    "    Parameters\n",
    "    ----------\n",
    "    f : callable\n",
    "        Function f.\n",
    "    fder : callable\n",
    "        Derivative of f.\n",
    "    x0 : float\n",
    "        Initial point for iterations.\n",
    "    eps : float\n",
    "        Requested accuracy.\n",
    "    maxiter : int\n",
    "        Maximal number of iterations.\n",
    "    \n",
    "    Returns\n",
    "    -------\n",
    "    x : float\n",
    "        Approximate root.\n",
    "    niter : int\n",
    "        Number of iterations.\n",
    "    \"\"\"\n",
    "    error = np.abs(f(x0))\n",
    "    it_count = 0\n",
    "    while error > eps and it_count < maxiter:\n",
    "        x0 -= f(x0)/fder(x0)\n",
    "        error = np.abs(f(x0))\n",
    "    return x0"
   ]
  },
  {
   "cell_type": "code",
   "execution_count": 29,
   "metadata": {},
   "outputs": [],
   "source": [
    "def f(x):\n",
    "    return x**2-1\n",
    "def fder(x):\n",
    "    return 2*x"
   ]
  },
  {
   "cell_type": "code",
   "execution_count": 30,
   "metadata": {},
   "outputs": [
    {
     "data": {
      "text/plain": [
       "1.0000000000139897"
      ]
     },
     "execution_count": 30,
     "metadata": {},
     "output_type": "execute_result"
    }
   ],
   "source": [
    "newton_iteration(f, fder, 10)"
   ]
  },
  {
   "cell_type": "code",
   "execution_count": 34,
   "metadata": {},
   "outputs": [
    {
     "data": {
      "text/plain": [
       "[<matplotlib.lines.Line2D at 0x7ff7ba228d60>]"
      ]
     },
     "execution_count": 34,
     "metadata": {},
     "output_type": "execute_result"
    },
    {
     "data": {
      "image/png": "[encoded data removed]",
      "text/plain": [
       "<Figure size 432x288 with 1 Axes>"
      ]
     },
     "metadata": {
      "needs_background": "light"
     },
     "output_type": "display_data"
    }
   ],
   "source": [
    "it_count = 10\n",
    "x0 = 10\n",
    "\n",
    "errors_log = np.zeros(it_count)\n",
    "for i in range(it_count):\n",
    "    errors_log[i] = np.log(np.abs(f(newton_iteration(f, fder, x0, eps=1e-5, maxiter=i))))\n",
    "\n",
    "foo_lin = [np.log(1/i) for i in range(1, it_count+1)]\n",
    "foo_quad = [np.log(1/i**2) for i in range(1, it_count+1)]\n",
    "plt.plot(range(it_count), errors_log, label='error')\n",
    "plt.plot(range(it_count), foo_lin, label='linear')\n",
    "plt.plot(range(it_count), foo_quad, label='quad')\n",
    "plt.legend()"
   ]
  },
  {
   "cell_type": "code",
   "execution_count": null,
   "metadata": {},
   "outputs": [],
   "source": []
  },
  {
   "cell_type": "code",
   "execution_count": null,
   "metadata": {},
   "outputs": [],
   "source": []
  }
 ],
 "metadata": {
  "kernelspec": {
   "display_name": "Python 3",
   "language": "python",
   "name": "python3"
  },
  "language_info": {
   "codemirror_mode": {
    "name": "ipython",
    "version": 3
   },
   "file_extension": ".py",
   "mimetype": "text/x-python",
   "name": "python",
   "nbconvert_exporter": "python",
   "pygments_lexer": "ipython3",
   "version": "3.8.3"
  }
 },
 "nbformat": 4,
 "nbformat_minor": 4
}
