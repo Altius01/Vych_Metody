{
 "cells": [
  {
   "cell_type": "code",
   "execution_count": 8,
   "metadata": {},
   "outputs": [],
   "source": [
    "import numpy as np\n",
    "import matplotlib.pyplot as plt"
   ]
  },
  {
   "cell_type": "code",
   "execution_count": 26,
   "metadata": {},
   "outputs": [],
   "source": [
    "def f_1(x):\n",
    "    return x[0]**2-2*x[1]**4+1\n",
    "\n",
    "def f_2(x):\n",
    "    return x[0] - 3*x[1]**3 + 1\n",
    "\n",
    "func = [f_1, f_2]\n",
    "\n",
    "def f_1_der_1(x):\n",
    "    return 2*x[0]\n",
    "\n",
    "def f_1_der_2(x):\n",
    "    return -8*x[1]**3\n",
    "\n",
    "def f_2_der_1(x):\n",
    "    return 1\n",
    "\n",
    "def f_2_der_2(x):\n",
    "    return -3*x[1]**2\n",
    "\n",
    "ders = [\n",
    "    [f_1_der_1, f_1_der_2], \n",
    "    [f_2_der_1, f_2_der_2]\n",
    "]\n",
    "\n",
    "def get_jacobi(x):\n",
    "    rez = np.zeros((2,2))\n",
    "    for i in range(2):\n",
    "        for j in range(2):\n",
    "            rez[i][j] = ders[i][j](x)\n",
    "    return rez"
   ]
  },
  {
   "cell_type": "code",
   "execution_count": 50,
   "metadata": {},
   "outputs": [],
   "source": [
    "def newton_iteration(f, fder, x0, eps=1e-5, maxiter=1000):\n",
    "    F = np.array([func(x0) for func in f])\n",
    "    x0_old = np.zeros(np.shape(x0))\n",
    "    error = np.linalg.norm(x0-x0_old)\n",
    "    it_count = 0\n",
    "    while error > eps and it_count < maxiter:\n",
    "        x0_old = x0\n",
    "        x0 -= np.linalg.pinv(get_jacobi(x0)) @ F\n",
    "        F = np.array([func(x0) for func in f])\n",
    "        error = np.linalg.norm(x0-x0_old)\n",
    "        it_count += 1\n",
    "    return x0"
   ]
  },
  {
   "cell_type": "code",
   "execution_count": 58,
   "metadata": {},
   "outputs": [],
   "source": [
    "x = newton_iteration(func, ders, np.array([2.0,0.0]), eps=1e-5, maxiter=100)"
   ]
  },
  {
   "cell_type": "code",
   "execution_count": 59,
   "metadata": {},
   "outputs": [
    {
     "data": {
      "text/plain": [
       "[<matplotlib.lines.Line2D at 0x7fafaa206640>]"
      ]
     },
     "execution_count": 59,
     "metadata": {},
     "output_type": "execute_result"
    },
    {
     "data": {
      "image/png": "[encoded data removed]",
      "text/plain": [
       "<Figure size 432x288 with 1 Axes>"
      ]
     },
     "metadata": {
      "needs_background": "light"
     },
     "output_type": "display_data"
    }
   ],
   "source": [
    "plt.plot(x[0], x[1], marker = 'x')\n",
    "def dd(x):\n",
    "    return np.sqrt(1 - x**2)\n",
    "x2 = np.linspace(-1,1,100)\n",
    "\n",
    "plt.plot(x2, dd(x2), color='green')\n",
    "plt.plot(x2, -dd(x2), color='green')"
   ]
  },
  {
   "cell_type": "code",
   "execution_count": null,
   "metadata": {},
   "outputs": [],
   "source": []
  }
 ],
 "metadata": {
  "kernelspec": {
   "display_name": "Python 3",
   "language": "python",
   "name": "python3"
  },
  "language_info": {
   "codemirror_mode": {
    "name": "ipython",
    "version": 3
   },
   "file_extension": ".py",
   "mimetype": "text/x-python",
   "name": "python",
   "nbconvert_exporter": "python",
   "pygments_lexer": "ipython3",
   "version": "3.8.3"
  }
 },
 "nbformat": 4,
 "nbformat_minor": 4
}
